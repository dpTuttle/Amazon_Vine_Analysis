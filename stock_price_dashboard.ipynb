{
  "nbformat": 4,
  "nbformat_minor": 0,
  "metadata": {
    "colab": {
      "provenance": [],
      "collapsed_sections": [],
      "authorship_tag": "ABX9TyNMWNSjnxchsLLQH5olBV85",
      "include_colab_link": true
    },
    "kernelspec": {
      "name": "python3",
      "display_name": "Python 3"
    },
    "language_info": {
      "name": "python"
    }
  },
  "cells": [
    {
      "cell_type": "markdown",
      "metadata": {
        "id": "view-in-github",
        "colab_type": "text"
      },
      "source": [
        "<a href=\"https://colab.research.google.com/github/DSupps/Amazon_Vine_Analysis/blob/main/stock_price_dashboard.ipynb\" target=\"_parent\"><img src=\"https://colab.research.google.com/assets/colab-badge.svg\" alt=\"Open In Colab\"/></a>"
      ]
    },
    {
      "cell_type": "code",
      "source": [
        "!pip install yfinance"
      ],
      "metadata": {
        "id": "dysZSKa8enxD"
      },
      "execution_count": null,
      "outputs": []
    },
    {
      "cell_type": "code",
      "source": [
        "!pip install mplfinance"
      ],
      "metadata": {
        "id": "AHrj9Wzze5Og"
      },
      "execution_count": null,
      "outputs": []
    },
    {
      "cell_type": "code",
      "source": [
        "---\n",
        "title: Finance dashboard\n",
        "description: Dashboard with financial data\n",
        "show-code: False\n",
        "params:\n",
        "    ticker: \n",
        "        input: select\n",
        "        value: TSLA\n",
        "        label: Select ticker\n",
        "        choices: [TSLA, COIN, MSFT, PLTR, SNOW, NFLX]\n",
        "---"
      ],
      "metadata": {
        "id": "E3WiBBRbuWo5"
      },
      "execution_count": null,
      "outputs": []
    },
    {
      "cell_type": "markdown",
      "source": [
        "# Historic stock price"
      ],
      "metadata": {
        "id": "Y5el_bkff9V7"
      }
    },
    {
      "cell_type": "markdown",
      "source": [
        "### Import libraries"
      ],
      "metadata": {
        "id": "mRFVAQMGrtj9"
      }
    },
    {
      "cell_type": "code",
      "source": [
        "import yfinance as yf\n",
        "import mplfinance as mpf"
      ],
      "metadata": {
        "id": "AOlDpveDe995"
      },
      "execution_count": 4,
      "outputs": []
    },
    {
      "cell_type": "markdown",
      "source": [
        "### Create a variable for selected stock ticker:"
      ],
      "metadata": {
        "id": "4fm0rnnTr1-v"
      }
    },
    {
      "cell_type": "code",
      "source": [
        "ticker = \"TSLA\""
      ],
      "metadata": {
        "id": "MvF4x_aefDPd"
      },
      "execution_count": 5,
      "outputs": []
    },
    {
      "cell_type": "markdown",
      "source": [
        "### Print statement:"
      ],
      "metadata": {
        "id": "CveYMfN2srNW"
      }
    },
    {
      "cell_type": "code",
      "source": [
        "print(f\"Selected ticker: {ticker}\")"
      ],
      "metadata": {
        "colab": {
          "base_uri": "https://localhost:8080/"
        },
        "id": "r2dqlvxyfFSM",
        "outputId": "8120a3c7-8f73-439a-8e11-aaa7c7d9a131"
      },
      "execution_count": 6,
      "outputs": [
        {
          "output_type": "stream",
          "name": "stdout",
          "text": [
            "Selected ticker: TSLA\n"
          ]
        }
      ]
    },
    {
      "cell_type": "markdown",
      "source": [
        "### Grab stock market data for selected ticker using yfinance library:"
      ],
      "metadata": {
        "id": "rTU1FIPdsc06"
      }
    },
    {
      "cell_type": "code",
      "source": [
        "history = yf.Ticker(ticker).history(period=\"3mo\")"
      ],
      "metadata": {
        "id": "zUB3q244fI0s"
      },
      "execution_count": 7,
      "outputs": []
    },
    {
      "cell_type": "markdown",
      "source": [
        "### Print 3 month high and low for selected stock:"
      ],
      "metadata": {
        "id": "Fa7DpbD6s28L"
      }
    },
    {
      "cell_type": "code",
      "source": [
        "print(f\"3 months low: {history.Low.min().astype(int)}\")\n",
        "print(f\"3 months high: {history.High.max().astype(int)}\")"
      ],
      "metadata": {
        "colab": {
          "base_uri": "https://localhost:8080/"
        },
        "id": "Od-cBCxRfMPl",
        "outputId": "2cfb4e09-b005-4c99-e18f-6027bd70c1f1"
      },
      "execution_count": 8,
      "outputs": [
        {
          "output_type": "stream",
          "name": "stdout",
          "text": [
            "3 months low: 208\n",
            "3 months high: 314\n"
          ]
        }
      ]
    },
    {
      "cell_type": "markdown",
      "source": [
        "### Print last 5 trading days data:"
      ],
      "metadata": {
        "id": "Y7kaFN5MtCA3"
      }
    },
    {
      "cell_type": "code",
      "source": [
        "history.tail()"
      ],
      "metadata": {
        "colab": {
          "base_uri": "https://localhost:8080/",
          "height": 237
        },
        "id": "hYmDsTHrfVAn",
        "outputId": "544a60af-0d6c-466e-836c-25076bb05b98"
      },
      "execution_count": 9,
      "outputs": [
        {
          "output_type": "execute_result",
          "data": {
            "text/plain": [
              "                  Open        High         Low       Close    Volume  \\\n",
              "Date                                                                   \n",
              "2022-09-01  272.579987  277.579987  266.149994  277.160004  54287000   \n",
              "2022-09-02  281.070007  282.350006  269.079987  270.209991  50752200   \n",
              "2022-09-06  272.679993  275.989990  265.739990  274.420013  55860000   \n",
              "2022-09-07  273.100006  283.839996  272.269989  283.700012  50028900   \n",
              "2022-09-08  281.299988  289.500000  279.760010  289.260010  53420705   \n",
              "\n",
              "            Dividends  Stock Splits  \n",
              "Date                                 \n",
              "2022-09-01          0           0.0  \n",
              "2022-09-02          0           0.0  \n",
              "2022-09-06          0           0.0  \n",
              "2022-09-07          0           0.0  \n",
              "2022-09-08          0           0.0  "
            ],
            "text/html": [
              "\n",
              "  <div id=\"df-f67beeee-55cd-40de-803d-6e4ecee0a35b\">\n",
              "    <div class=\"colab-df-container\">\n",
              "      <div>\n",
              "<style scoped>\n",
              "    .dataframe tbody tr th:only-of-type {\n",
              "        vertical-align: middle;\n",
              "    }\n",
              "\n",
              "    .dataframe tbody tr th {\n",
              "        vertical-align: top;\n",
              "    }\n",
              "\n",
              "    .dataframe thead th {\n",
              "        text-align: right;\n",
              "    }\n",
              "</style>\n",
              "<table border=\"1\" class=\"dataframe\">\n",
              "  <thead>\n",
              "    <tr style=\"text-align: right;\">\n",
              "      <th></th>\n",
              "      <th>Open</th>\n",
              "      <th>High</th>\n",
              "      <th>Low</th>\n",
              "      <th>Close</th>\n",
              "      <th>Volume</th>\n",
              "      <th>Dividends</th>\n",
              "      <th>Stock Splits</th>\n",
              "    </tr>\n",
              "    <tr>\n",
              "      <th>Date</th>\n",
              "      <th></th>\n",
              "      <th></th>\n",
              "      <th></th>\n",
              "      <th></th>\n",
              "      <th></th>\n",
              "      <th></th>\n",
              "      <th></th>\n",
              "    </tr>\n",
              "  </thead>\n",
              "  <tbody>\n",
              "    <tr>\n",
              "      <th>2022-09-01</th>\n",
              "      <td>272.579987</td>\n",
              "      <td>277.579987</td>\n",
              "      <td>266.149994</td>\n",
              "      <td>277.160004</td>\n",
              "      <td>54287000</td>\n",
              "      <td>0</td>\n",
              "      <td>0.0</td>\n",
              "    </tr>\n",
              "    <tr>\n",
              "      <th>2022-09-02</th>\n",
              "      <td>281.070007</td>\n",
              "      <td>282.350006</td>\n",
              "      <td>269.079987</td>\n",
              "      <td>270.209991</td>\n",
              "      <td>50752200</td>\n",
              "      <td>0</td>\n",
              "      <td>0.0</td>\n",
              "    </tr>\n",
              "    <tr>\n",
              "      <th>2022-09-06</th>\n",
              "      <td>272.679993</td>\n",
              "      <td>275.989990</td>\n",
              "      <td>265.739990</td>\n",
              "      <td>274.420013</td>\n",
              "      <td>55860000</td>\n",
              "      <td>0</td>\n",
              "      <td>0.0</td>\n",
              "    </tr>\n",
              "    <tr>\n",
              "      <th>2022-09-07</th>\n",
              "      <td>273.100006</td>\n",
              "      <td>283.839996</td>\n",
              "      <td>272.269989</td>\n",
              "      <td>283.700012</td>\n",
              "      <td>50028900</td>\n",
              "      <td>0</td>\n",
              "      <td>0.0</td>\n",
              "    </tr>\n",
              "    <tr>\n",
              "      <th>2022-09-08</th>\n",
              "      <td>281.299988</td>\n",
              "      <td>289.500000</td>\n",
              "      <td>279.760010</td>\n",
              "      <td>289.260010</td>\n",
              "      <td>53420705</td>\n",
              "      <td>0</td>\n",
              "      <td>0.0</td>\n",
              "    </tr>\n",
              "  </tbody>\n",
              "</table>\n",
              "</div>\n",
              "      <button class=\"colab-df-convert\" onclick=\"convertToInteractive('df-f67beeee-55cd-40de-803d-6e4ecee0a35b')\"\n",
              "              title=\"Convert this dataframe to an interactive table.\"\n",
              "              style=\"display:none;\">\n",
              "        \n",
              "  <svg xmlns=\"http://www.w3.org/2000/svg\" height=\"24px\"viewBox=\"0 0 24 24\"\n",
              "       width=\"24px\">\n",
              "    <path d=\"M0 0h24v24H0V0z\" fill=\"none\"/>\n",
              "    <path d=\"M18.56 5.44l.94 2.06.94-2.06 2.06-.94-2.06-.94-.94-2.06-.94 2.06-2.06.94zm-11 1L8.5 8.5l.94-2.06 2.06-.94-2.06-.94L8.5 2.5l-.94 2.06-2.06.94zm10 10l.94 2.06.94-2.06 2.06-.94-2.06-.94-.94-2.06-.94 2.06-2.06.94z\"/><path d=\"M17.41 7.96l-1.37-1.37c-.4-.4-.92-.59-1.43-.59-.52 0-1.04.2-1.43.59L10.3 9.45l-7.72 7.72c-.78.78-.78 2.05 0 2.83L4 21.41c.39.39.9.59 1.41.59.51 0 1.02-.2 1.41-.59l7.78-7.78 2.81-2.81c.8-.78.8-2.07 0-2.86zM5.41 20L4 18.59l7.72-7.72 1.47 1.35L5.41 20z\"/>\n",
              "  </svg>\n",
              "      </button>\n",
              "      \n",
              "  <style>\n",
              "    .colab-df-container {\n",
              "      display:flex;\n",
              "      flex-wrap:wrap;\n",
              "      gap: 12px;\n",
              "    }\n",
              "\n",
              "    .colab-df-convert {\n",
              "      background-color: #E8F0FE;\n",
              "      border: none;\n",
              "      border-radius: 50%;\n",
              "      cursor: pointer;\n",
              "      display: none;\n",
              "      fill: #1967D2;\n",
              "      height: 32px;\n",
              "      padding: 0 0 0 0;\n",
              "      width: 32px;\n",
              "    }\n",
              "\n",
              "    .colab-df-convert:hover {\n",
              "      background-color: #E2EBFA;\n",
              "      box-shadow: 0px 1px 2px rgba(60, 64, 67, 0.3), 0px 1px 3px 1px rgba(60, 64, 67, 0.15);\n",
              "      fill: #174EA6;\n",
              "    }\n",
              "\n",
              "    [theme=dark] .colab-df-convert {\n",
              "      background-color: #3B4455;\n",
              "      fill: #D2E3FC;\n",
              "    }\n",
              "\n",
              "    [theme=dark] .colab-df-convert:hover {\n",
              "      background-color: #434B5C;\n",
              "      box-shadow: 0px 1px 3px 1px rgba(0, 0, 0, 0.15);\n",
              "      filter: drop-shadow(0px 1px 2px rgba(0, 0, 0, 0.3));\n",
              "      fill: #FFFFFF;\n",
              "    }\n",
              "  </style>\n",
              "\n",
              "      <script>\n",
              "        const buttonEl =\n",
              "          document.querySelector('#df-f67beeee-55cd-40de-803d-6e4ecee0a35b button.colab-df-convert');\n",
              "        buttonEl.style.display =\n",
              "          google.colab.kernel.accessAllowed ? 'block' : 'none';\n",
              "\n",
              "        async function convertToInteractive(key) {\n",
              "          const element = document.querySelector('#df-f67beeee-55cd-40de-803d-6e4ecee0a35b');\n",
              "          const dataTable =\n",
              "            await google.colab.kernel.invokeFunction('convertToInteractive',\n",
              "                                                     [key], {});\n",
              "          if (!dataTable) return;\n",
              "\n",
              "          const docLinkHtml = 'Like what you see? Visit the ' +\n",
              "            '<a target=\"_blank\" href=https://colab.research.google.com/notebooks/data_table.ipynb>data table notebook</a>'\n",
              "            + ' to learn more about interactive tables.';\n",
              "          element.innerHTML = '';\n",
              "          dataTable['output_type'] = 'display_data';\n",
              "          await google.colab.output.renderOutput(dataTable, element);\n",
              "          const docLink = document.createElement('div');\n",
              "          docLink.innerHTML = docLinkHtml;\n",
              "          element.appendChild(docLink);\n",
              "        }\n",
              "      </script>\n",
              "    </div>\n",
              "  </div>\n",
              "  "
            ]
          },
          "metadata": {},
          "execution_count": 9
        }
      ]
    },
    {
      "cell_type": "markdown",
      "source": [
        "### Plot stock market data with a candle plot and 7-days moving average using mplfinance library:"
      ],
      "metadata": {
        "id": "SNYYNT3HtqZp"
      }
    },
    {
      "cell_type": "code",
      "source": [
        "mpf.plot(history, type='candle', mav=(7),figratio=(18,10))"
      ],
      "metadata": {
        "colab": {
          "base_uri": "https://localhost:8080/",
          "height": 492
        },
        "id": "izR3DwRxfp3g",
        "outputId": "fcaf4db0-3eb5-4ab1-ab41-503290076488"
      },
      "execution_count": 10,
      "outputs": [
        {
          "output_type": "display_data",
          "data": {
            "text/plain": [
              "<Figure size 1035x575 with 2 Axes>"
            ],
            "image/png": "[encoded data removed]"
          },
          "metadata": {}
        }
      ]
    }
  ]
}